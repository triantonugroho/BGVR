{
  "cells": [
    {
      "cell_type": "code",
      "execution_count": 1,
      "metadata": {
        "id": "Ai6aLOze-Wje"
      },
      "outputs": [
        {
          "name": "stdout",
          "output_type": "stream",
          "text": [
            "Generated eqtl_part1.json with 10 entries\n",
            "Generated eqtl_part2.json with 10 entries\n",
            "Generated peak_part1.json with 5 entries\n",
            "Generated motif_part1.json with 5 entries\n",
            "✅ All synthetic data generated!\n"
          ]
        }
      ],
      "source": [
        "import json\n",
        "import random\n",
        "\n",
        "# Generate synthetic eQTL data\n",
        "def generate_eqtl_data(file_name, num_entries):\n",
        "    data = [\n",
        "        {\n",
        "            \"snp_id\": f\"rs{random.randint(100000, 999999)}\",\n",
        "            \"gene_id\": f\"ENSG{random.randint(100000000000, 999999999999)}\",\n",
        "            \"p_value\": round(random.uniform(0, 1), 6)\n",
        "        }\n",
        "        for _ in range(num_entries)\n",
        "    ]\n",
        "    with open(file_name, 'w') as f:\n",
        "        json.dump(data, f, indent=4)\n",
        "    print(f\"Generated {file_name} with {num_entries} entries\")\n",
        "\n",
        "# Generate synthetic peak call data\n",
        "def generate_peak_data(file_name, num_entries):\n",
        "    data = [\n",
        "        {\n",
        "            \"chrom\": f\"chr{random.randint(1, 22)}\",\n",
        "            \"start\": random.randint(1, 1000000),\n",
        "            \"end\": random.randint(1000001, 2000000),\n",
        "            \"peak_id\": f\"PEAK{random.randint(1000, 9999)}\"\n",
        "        }\n",
        "        for _ in range(num_entries)\n",
        "    ]\n",
        "    with open(file_name, 'w') as f:\n",
        "        json.dump(data, f, indent=4)\n",
        "    print(f\"Generated {file_name} with {num_entries} entries\")\n",
        "\n",
        "# Generate synthetic motif hit data\n",
        "def generate_motif_data(file_name, num_entries):\n",
        "    data = [\n",
        "        {\n",
        "            \"chrom\": f\"chr{random.randint(1, 22)}\",\n",
        "            \"position\": random.randint(1, 1000000),\n",
        "            \"motif_id\": f\"MOTIF{random.randint(1000, 9999)}\"\n",
        "        }\n",
        "        for _ in range(num_entries)\n",
        "    ]\n",
        "    with open(file_name, 'w') as f:\n",
        "        json.dump(data, f, indent=4)\n",
        "    print(f\"Generated {file_name} with {num_entries} entries\")\n",
        "\n",
        "# Generate sample data\n",
        "generate_eqtl_data('eqtl_part1.json', 10)\n",
        "generate_eqtl_data('eqtl_part2.json', 10)\n",
        "generate_peak_data('peak_part1.json', 5)\n",
        "generate_motif_data('motif_part1.json', 5)\n",
        "\n",
        "print(\"✅ All synthetic data generated!\")\n"
      ]
    }
  ],
  "metadata": {
    "colab": {
      "provenance": []
    },
    "kernelspec": {
      "display_name": "base",
      "language": "python",
      "name": "python3"
    },
    "language_info": {
      "codemirror_mode": {
        "name": "ipython",
        "version": 3
      },
      "file_extension": ".py",
      "mimetype": "text/x-python",
      "name": "python",
      "nbconvert_exporter": "python",
      "pygments_lexer": "ipython3",
      "version": "3.11.7"
    }
  },
  "nbformat": 4,
  "nbformat_minor": 0
}
