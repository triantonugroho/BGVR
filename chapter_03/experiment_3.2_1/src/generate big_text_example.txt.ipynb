{
  "cells": [
    {
      "cell_type": "code",
      "execution_count": 1,
      "metadata": {
        "id": "Ai6aLOze-Wje"
      },
      "outputs": [
        {
          "name": "stdout",
          "output_type": "stream",
          "text": [
            "Synthetic text dataset generated: big_text_example.txt\n"
          ]
        }
      ],
      "source": [
        "import random\n",
        "import string\n",
        "\n",
        "def generate_synthetic_text(file_path, length=1000000, pattern=\"ABABABC\", pattern_freq=5000):\n",
        "    \"\"\"\n",
        "    Generates a synthetic text file containing repeated occurrences of a given pattern,\n",
        "    interspersed with random characters.\n",
        "\n",
        "    :param file_path: Path to save the generated text file.\n",
        "    :param length: Total length of the generated text.\n",
        "    :param pattern: Pattern to be inserted at regular intervals.\n",
        "    :param pattern_freq: Frequency of pattern insertion (every N characters).\n",
        "    \"\"\"\n",
        "    text = []\n",
        "    for i in range(0, length, pattern_freq):\n",
        "        # Add random characters\n",
        "        rand_part = ''.join(random.choices(string.ascii_uppercase, k=min(pattern_freq - len(pattern), length - i)))\n",
        "        text.append(rand_part)\n",
        "        # Insert pattern\n",
        "        if i + len(pattern) < length:\n",
        "            text.append(pattern)\n",
        "    \n",
        "    # Write to file\n",
        "    with open(file_path, \"w\") as f:\n",
        "        f.write(''.join(text))\n",
        "\n",
        "if __name__ == \"__main__\":\n",
        "    generate_synthetic_text(\"big_text_example.txt\", length=1000000, pattern=\"ABABABC\", pattern_freq=5000)\n",
        "    print(\"Synthetic text dataset generated: big_text_example.txt\")\n"
      ]
    }
  ],
  "metadata": {
    "colab": {
      "provenance": []
    },
    "kernelspec": {
      "display_name": "base",
      "language": "python",
      "name": "python3"
    },
    "language_info": {
      "codemirror_mode": {
        "name": "ipython",
        "version": 3
      },
      "file_extension": ".py",
      "mimetype": "text/x-python",
      "name": "python",
      "nbconvert_exporter": "python",
      "pygments_lexer": "ipython3",
      "version": "3.11.7"
    }
  },
  "nbformat": 4,
  "nbformat_minor": 0
}
