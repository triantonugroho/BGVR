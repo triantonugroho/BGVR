{
  "nbformat": 4,
  "nbformat_minor": 0,
  "metadata": {
    "colab": {
      "provenance": []
    },
    "kernelspec": {
      "name": "python3",
      "display_name": "Python 3"
    },
    "language_info": {
      "name": "python"
    }
  },
  "cells": [
    {
      "cell_type": "code",
      "execution_count": null,
      "metadata": {
        "id": "Ai6aLOze-Wje"
      },
      "outputs": [],
      "source": [
        "import numpy as np\n",
        "import pandas as pd\n",
        "\n",
        "# Parameters\n",
        "num_samples = 5000   # Total number of samples\n",
        "num_features = 10000  # Number of gene expression features\n",
        "\n",
        "# Generate random gene expression values (normalized between 0 and 1)\n",
        "data = np.random.rand(num_samples, num_features)\n",
        "\n",
        "# Generate random binary labels (0 or 1)\n",
        "labels = np.random.randint(0, 2, size=(num_samples, 1))\n",
        "\n",
        "# Combine features and labels\n",
        "dataset = np.hstack((data, labels))\n",
        "\n",
        "# Create a DataFrame\n",
        "columns = [f\"gene_{i}\" for i in range(1, num_features + 1)] + [\"label\"]\n",
        "df = pd.DataFrame(dataset, columns=columns)\n",
        "\n",
        "# Save as CSV\n",
        "df.to_csv(\"gene_expression.csv\", index=False)\n",
        "\n",
        "print(\"Synthetic dataset 'gene_expression.csv' generated successfully!\")\n"
      ]
    }
  ]
}