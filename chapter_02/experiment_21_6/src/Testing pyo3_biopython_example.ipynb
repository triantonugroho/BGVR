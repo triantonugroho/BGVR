{
  "cells": [
    {
      "cell_type": "code",
      "execution_count": 1,
      "metadata": {
        "id": "Ai6aLOze-Wje"
      },
      "outputs": [
        {
          "name": "stdout",
          "output_type": "stream",
          "text": [
            "GCAT\n",
            "66.66666666666666\n"
          ]
        }
      ],
      "source": [
        "import pyo3_biopython_example\n",
        "\n",
        "# Coba fungsi reverse_complement\n",
        "print(pyo3_biopython_example.reverse_complement(\"ATGC\"))  # Output harus \"GCAT\"\n",
        "\n",
        "# Coba fungsi gc_content\n",
        "print(pyo3_biopython_example.gc_content(\"ATGCGC\"))  # Harus mengembalikan GC content dalam persen\n"
      ]
    }
  ],
  "metadata": {
    "colab": {
      "provenance": []
    },
    "kernelspec": {
      "display_name": "base",
      "language": "python",
      "name": "python3"
    },
    "language_info": {
      "codemirror_mode": {
        "name": "ipython",
        "version": 3
      },
      "file_extension": ".py",
      "mimetype": "text/x-python",
      "name": "python",
      "nbconvert_exporter": "python",
      "pygments_lexer": "ipython3",
      "version": "3.11.7"
    }
  },
  "nbformat": 4,
  "nbformat_minor": 0
}
