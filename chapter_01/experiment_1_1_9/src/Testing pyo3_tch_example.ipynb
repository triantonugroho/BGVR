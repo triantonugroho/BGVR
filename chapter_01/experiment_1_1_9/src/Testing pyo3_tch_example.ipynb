{
  "cells": [
    {
      "cell_type": "code",
      "execution_count": null,
      "metadata": {
        "id": "Ai6aLOze-Wje"
      },
      "outputs": [
        {
          "ename": "ModuleNotFoundError",
          "evalue": "No module named 'pyo3_tch_example.pyo3_tch_example'",
          "output_type": "error",
          "traceback": [
            "\u001b[1;31m---------------------------------------------------------------------------\u001b[0m",
            "\u001b[1;31mModuleNotFoundError\u001b[0m                       Traceback (most recent call last)",
            "Cell \u001b[1;32mIn[10], line 1\u001b[0m\n\u001b[1;32m----> 1\u001b[0m \u001b[38;5;28;01mfrom\u001b[39;00m \u001b[38;5;21;01mpyo3_tch_example\u001b[39;00m\u001b[38;5;21;01m.\u001b[39;00m\u001b[38;5;21;01mcp311_win_amd64\u001b[39;00m \u001b[38;5;28;01mimport\u001b[39;00m tch_ex\n\u001b[0;32m      3\u001b[0m \u001b[38;5;66;03m# Pass exactly two floats for the forward pass.\u001b[39;00m\n\u001b[0;32m      4\u001b[0m result \u001b[38;5;241m=\u001b[39m tch_ex\u001b[38;5;241m.\u001b[39mrun_linear_forward_py([\u001b[38;5;241m1.0\u001b[39m, \u001b[38;5;241m-\u001b[39m\u001b[38;5;241m0.5\u001b[39m])\n",
            "File \u001b[1;32mc:\\Users\\trian\\anaconda3\\Lib\\site-packages\\pyo3_tch_example\\__init__.py:1\u001b[0m\n\u001b[1;32m----> 1\u001b[0m \u001b[38;5;28;01mfrom\u001b[39;00m \u001b[38;5;21;01m.\u001b[39;00m\u001b[38;5;21;01mpyo3_tch_example\u001b[39;00m \u001b[38;5;28;01mimport\u001b[39;00m \u001b[38;5;241m*\u001b[39m\n\u001b[0;32m      3\u001b[0m \u001b[38;5;18m__doc__\u001b[39m \u001b[38;5;241m=\u001b[39m pyo3_tch_example\u001b[38;5;241m.\u001b[39m\u001b[38;5;18m__doc__\u001b[39m\n\u001b[0;32m      4\u001b[0m \u001b[38;5;28;01mif\u001b[39;00m \u001b[38;5;28mhasattr\u001b[39m(pyo3_tch_example, \u001b[38;5;124m\"\u001b[39m\u001b[38;5;124m__all__\u001b[39m\u001b[38;5;124m\"\u001b[39m):\n",
            "\u001b[1;31mModuleNotFoundError\u001b[0m: No module named 'pyo3_tch_example.pyo3_tch_example'"
          ]
        }
      ],
      "source": [
        "import pyo3_tch_example\n",
        "\n",
        "# Pass exactly two floats for the forward pass.\n",
        "result = tch_ex.run_linear_forward_py([1.0, -0.5])\n",
        "print(\"Rust + tch output:\", result)"
      ]
    },
    {
      "cell_type": "code",
      "execution_count": 19,
      "metadata": {},
      "outputs": [
        {
          "name": "stdout",
          "output_type": "stream",
          "text": [
            "Checking: C:\\Users\\trian\\anaconda3\\Lib\\site-packages\\pyo3_tch_example\n",
            "['pyo3_tch_example.cp311_win_amd64.pyd', 'pyo3_tch_example.dll', '__init__.py', '__pycache__']\n"
          ]
        }
      ],
      "source": [
        "import os\n",
        "import sys\n",
        "\n",
        "site_packages_path = r\"C:\\Users\\trian\\anaconda3\\Lib\\site-packages\\pyo3_tch_example\"\n",
        "\n",
        "print(\"Checking:\", site_packages_path)\n",
        "print(os.listdir(site_packages_path))\n"
      ]
    },
    {
      "cell_type": "code",
      "execution_count": 20,
      "metadata": {},
      "outputs": [],
      "source": [
        "import sys"
      ]
    },
    {
      "cell_type": "code",
      "execution_count": 21,
      "metadata": {},
      "outputs": [
        {
          "name": "stdout",
          "output_type": "stream",
          "text": [
            "['c:\\\\Users\\\\trian\\\\BGVR\\\\chapter_02\\\\experiment_21_8\\\\src', 'c:\\\\Users\\\\trian\\\\anaconda3\\\\python311.zip', 'c:\\\\Users\\\\trian\\\\anaconda3\\\\DLLs', 'c:\\\\Users\\\\trian\\\\anaconda3\\\\Lib', 'c:\\\\Users\\\\trian\\\\anaconda3', '', 'c:\\\\Users\\\\trian\\\\anaconda3\\\\Lib\\\\site-packages', 'c:\\\\Users\\\\trian\\\\anaconda3\\\\Lib\\\\site-packages\\\\win32', 'c:\\\\Users\\\\trian\\\\anaconda3\\\\Lib\\\\site-packages\\\\win32\\\\lib', 'c:\\\\Users\\\\trian\\\\anaconda3\\\\Lib\\\\site-packages\\\\Pythonwin', 'C:\\\\Users\\\\trian\\\\BGVR\\\\chapter_02\\\\experiment_21_8', 'C:\\\\Users\\\\trian\\\\BGVR\\\\chapter_02\\\\experiment_21_8', 'C:\\\\Users\\\\trian\\\\BGVR\\\\chapter_02\\\\experiment_21_8', 'c:\\\\Users\\\\trian\\\\anaconda3\\\\Lib\\\\site-packages', 'c:\\\\Users\\\\trian\\\\anaconda3\\\\Lib\\\\site-packages', 'c:\\\\Users\\\\trian\\\\anaconda3\\\\Lib\\\\site-packages', 'c:\\\\Users\\\\trian\\\\anaconda3\\\\Lib\\\\site-packages']\n"
          ]
        }
      ],
      "source": [
        "print(sys.path)"
      ]
    },
    {
      "cell_type": "code",
      "execution_count": 22,
      "metadata": {},
      "outputs": [
        {
          "name": "stdout",
          "output_type": "stream",
          "text": [
            "File ditemukan, mencoba load...\n"
          ]
        },
        {
          "ename": "FileNotFoundError",
          "evalue": "Could not find module 'c:\\Users\\trian\\anaconda3\\Lib\\site-packages\\pyo3_tch_example\\pyo3_tch_example.cp311_win_amd64.pyd' (or one of its dependencies). Try using the full path with constructor syntax.",
          "output_type": "error",
          "traceback": [
            "\u001b[1;31m---------------------------------------------------------------------------\u001b[0m",
            "\u001b[1;31mFileNotFoundError\u001b[0m                         Traceback (most recent call last)",
            "Cell \u001b[1;32mIn[22], line 8\u001b[0m\n\u001b[0;32m      6\u001b[0m \u001b[38;5;28;01mif\u001b[39;00m os\u001b[38;5;241m.\u001b[39mpath\u001b[38;5;241m.\u001b[39mexists(pyd_path):\n\u001b[0;32m      7\u001b[0m     \u001b[38;5;28mprint\u001b[39m(\u001b[38;5;124m\"\u001b[39m\u001b[38;5;124mFile ditemukan, mencoba load...\u001b[39m\u001b[38;5;124m\"\u001b[39m)\n\u001b[1;32m----> 8\u001b[0m     ctypes\u001b[38;5;241m.\u001b[39mWinDLL(pyd_path)\n\u001b[0;32m      9\u001b[0m \u001b[38;5;28;01melse\u001b[39;00m:\n\u001b[0;32m     10\u001b[0m     \u001b[38;5;28mprint\u001b[39m(\u001b[38;5;124m\"\u001b[39m\u001b[38;5;124mFile tidak ditemukan!\u001b[39m\u001b[38;5;124m\"\u001b[39m)\n",
            "File \u001b[1;32mc:\\Users\\trian\\anaconda3\\Lib\\ctypes\\__init__.py:376\u001b[0m, in \u001b[0;36mCDLL.__init__\u001b[1;34m(self, name, mode, handle, use_errno, use_last_error, winmode)\u001b[0m\n\u001b[0;32m    373\u001b[0m \u001b[38;5;28mself\u001b[39m\u001b[38;5;241m.\u001b[39m_FuncPtr \u001b[38;5;241m=\u001b[39m _FuncPtr\n\u001b[0;32m    375\u001b[0m \u001b[38;5;28;01mif\u001b[39;00m handle \u001b[38;5;129;01mis\u001b[39;00m \u001b[38;5;28;01mNone\u001b[39;00m:\n\u001b[1;32m--> 376\u001b[0m     \u001b[38;5;28mself\u001b[39m\u001b[38;5;241m.\u001b[39m_handle \u001b[38;5;241m=\u001b[39m _dlopen(\u001b[38;5;28mself\u001b[39m\u001b[38;5;241m.\u001b[39m_name, mode)\n\u001b[0;32m    377\u001b[0m \u001b[38;5;28;01melse\u001b[39;00m:\n\u001b[0;32m    378\u001b[0m     \u001b[38;5;28mself\u001b[39m\u001b[38;5;241m.\u001b[39m_handle \u001b[38;5;241m=\u001b[39m handle\n",
            "\u001b[1;31mFileNotFoundError\u001b[0m: Could not find module 'c:\\Users\\trian\\anaconda3\\Lib\\site-packages\\pyo3_tch_example\\pyo3_tch_example.cp311_win_amd64.pyd' (or one of its dependencies). Try using the full path with constructor syntax."
          ]
        }
      ],
      "source": [
        "import ctypes\n",
        "import os\n",
        "\n",
        "pyd_path = r\"c:\\Users\\trian\\anaconda3\\Lib\\site-packages\\pyo3_tch_example\\pyo3_tch_example.cp311_win_amd64.pyd\"\n",
        "\n",
        "if os.path.exists(pyd_path):\n",
        "    print(\"File ditemukan, mencoba load...\")\n",
        "    ctypes.WinDLL(pyd_path)\n",
        "else:\n",
        "    print(\"File tidak ditemukan!\")\n"
      ]
    },
    {
      "cell_type": "code",
      "execution_count": 23,
      "metadata": {},
      "outputs": [
        {
          "name": "stdout",
          "output_type": "stream",
          "text": [
            "File .pyd ditemukan!\n"
          ]
        }
      ],
      "source": [
        "import os\n",
        "pyd_path = r\"c:\\Users\\trian\\anaconda3\\Lib\\site-packages\\pyo3_tch_example\\pyo3_tch_example.cp311_win_amd64.pyd\"\n",
        "\n",
        "if os.path.exists(pyd_path):\n",
        "    print(\"File .pyd ditemukan!\")\n",
        "else:\n",
        "    print(\"File .pyd TIDAK ditemukan!\")\n"
      ]
    },
    {
      "cell_type": "code",
      "execution_count": 5,
      "metadata": {},
      "outputs": [
        {
          "name": "stdout",
          "output_type": "stream",
          "text": [
            "Gagal mengimpor pyo3_tch_example: No module named 'pyo3_tch_example.pyo3_tch_example'\n"
          ]
        }
      ],
      "source": [
        "import sys\n",
        "import os\n",
        "\n",
        "sys.path.append(r\"C:\\Users\\trian\\anaconda3\\Lib\\site-packages\\pyo3_tch_example\")\n",
        "\n",
        "try:\n",
        "    from pyo3_tch_example.cp311_win_amd64 import *\n",
        "except ImportError as e:\n",
        "    print(f\"Gagal mengimpor pyo3_tch_example: {e}\")\n"
      ]
    },
    {
      "cell_type": "code",
      "execution_count": 4,
      "metadata": {},
      "outputs": [
        {
          "name": "stdout",
          "output_type": "stream",
          "text": [
            "Isi folder: ['pyo3_tch_example.cp311_win_amd64.pyd', 'pyo3_tch_example.dll', '__init__.py', '__pycache__']\n"
          ]
        }
      ],
      "source": [
        "import os\n",
        "\n",
        "pyd_path = r\"C:\\Users\\trian\\anaconda3\\Lib\\site-packages\\pyo3_tch_example\"\n",
        "print(\"Isi folder:\", os.listdir(pyd_path))\n"
      ]
    }
  ],
  "metadata": {
    "colab": {
      "provenance": []
    },
    "kernelspec": {
      "display_name": "base",
      "language": "python",
      "name": "python3"
    },
    "language_info": {
      "codemirror_mode": {
        "name": "ipython",
        "version": 3
      },
      "file_extension": ".py",
      "mimetype": "text/x-python",
      "name": "python",
      "nbconvert_exporter": "python",
      "pygments_lexer": "ipython3",
      "version": "3.11.7"
    }
  },
  "nbformat": 4,
  "nbformat_minor": 0
}
